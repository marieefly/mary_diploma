{
 "cells": [
  {
   "cell_type": "code",
   "execution_count": 1,
   "id": "1db5d130",
   "metadata": {},
   "outputs": [],
   "source": [
    "import numpy as np\n",
    "import random\n",
    "import pandas as pd\n",
    "import matplotlib\n",
    "import matplotlib.pyplot as plt\n",
    "#import seaborn as sns\n",
    "%matplotlib inline\n",
    "random.seed()"
   ]
  },
  {
   "cell_type": "code",
   "execution_count": 7,
   "id": "a9f48ec1",
   "metadata": {},
   "outputs": [
    {
     "name": "stdout",
     "output_type": "stream",
     "text": [
      "a_1=2, b_1=1, a_0=1, b_0=2, p=0.9999\n",
      "Число наблюдений: 50, Число серий: 100\n",
      "                 Frequency\n",
      "Num of mistakes           \n",
      "0                       99\n",
      "1                        1\n",
      "Средняя доля ошибок: 0.0002\n"
     ]
    },
    {
     "data": {
      "text/plain": [
       "<BarContainer object of 2 artists>"
      ]
     },
     "execution_count": 7,
     "metadata": {},
     "output_type": "execute_result"
    },
    {
     "data": {
      "image/png": "[encoded data removed]",
      "text/plain": [
       "<Figure size 432x288 with 1 Axes>"
      ]
     },
     "metadata": {
      "needs_background": "light"
     },
     "output_type": "display_data"
    }
   ],
   "source": [
    "#большое p\n",
    "\n",
    "a_1=2\n",
    "b_1=1\n",
    "a_0=1\n",
    "b_0=2\n",
    "k=50\n",
    "p0=0.9999\n",
    "m=100\n",
    "S=list(i for i in range(0,m))\n",
    "for j in range(0,m):\n",
    "    random.seed()\n",
    "    p=list(i for i in range(0,k))\n",
    "    y=list(i for i in range(0,k))\n",
    "    z=list(i for i in range(0,k)) #estimation\n",
    "    I=list(i for i in range(0,k))\n",
    "    \n",
    "    for i in range(0,k):\n",
    "        y[i]=np.random.binomial(n=1, p=p0)\n",
    "    #print('Пожар есть(1) или нет(0):',y)\n",
    "    for i in range(0,k):\n",
    "        if y[i]==0:\n",
    "            p[i]=random.betavariate(a_0,b_0)\n",
    "        else:\n",
    "            p[i]=random.betavariate(a_1,b_1)\n",
    "    #print('Условные вероятности срабатывания:',p)\n",
    "    for i in range(0,k):\n",
    "        if p[i]>=1-p0:\n",
    "            z[i]=1\n",
    "        else:\n",
    "            z[i]=0\n",
    "    #print('          Оценки для Y_i:',z)\n",
    "    for i in range(0,k):\n",
    "        if z[i]==y[i]:\n",
    "            I[i]=0\n",
    "        else:\n",
    "            I[i]=1\n",
    "    #print('       Индикаторы ошибок:',I)\n",
    "    S[j]=sum(I[i] for i in range(0,k))\n",
    "    #print('Число ошибок:',S[j])\n",
    "    #print('Доля ошибок:',S[j]/k)\n",
    "#A=list(S[i]/k for i in range(0,m))\n",
    "data = pd.DataFrame(data={\"Num of mistakes\": list(S[i] for i in range(0,m)),\n",
    "                          \"Frequency\": list(1 for i in range(0,m))})\n",
    "#print(data)\n",
    "sum_points = data.groupby(\"Num of mistakes\") \\\n",
    "                 .agg({\"Frequency\": \"sum\"})\n",
    "print('a_1=2, b_1=1, a_0=1, b_0=2, p=0.9999')\n",
    "print('Число наблюдений: 50, Число серий: 100')\n",
    "print(sum_points)\n",
    "print('Средняя доля ошибок:',sum(S[j] for j in range(0,m))/(m*k))\n",
    "plt.bar(sum_points.index, sum_points[\"Frequency\"])"
   ]
  },
  {
   "cell_type": "code",
   "execution_count": 8,
   "id": "3b136a6b",
   "metadata": {},
   "outputs": [
    {
     "name": "stdout",
     "output_type": "stream",
     "text": [
      "a_1=2, b_1=1, a_0=1, b_0=2, p=0.001\n",
      "Число наблюдений: 50, Число серий: 100\n",
      "                 Frequency\n",
      "Num of mistakes           \n",
      "0                       96\n",
      "1                        4\n",
      "Средняя доля ошибок: 0.0008\n"
     ]
    },
    {
     "data": {
      "text/plain": [
       "<BarContainer object of 2 artists>"
      ]
     },
     "execution_count": 8,
     "metadata": {},
     "output_type": "execute_result"
    },
    {
     "data": {
      "image/png": "[encoded data removed]",
      "text/plain": [
       "<Figure size 432x288 with 1 Axes>"
      ]
     },
     "metadata": {
      "needs_background": "light"
     },
     "output_type": "display_data"
    }
   ],
   "source": [
    "#маленькое p\n",
    "\n",
    "a_1=2\n",
    "b_1=1\n",
    "a_0=1\n",
    "b_0=2\n",
    "k=50\n",
    "p0=0.001\n",
    "m=100\n",
    "S=list(i for i in range(0,m))\n",
    "for j in range(0,m):\n",
    "    random.seed()\n",
    "    p=list(i for i in range(0,k))\n",
    "    y=list(i for i in range(0,k))\n",
    "    z=list(i for i in range(0,k)) #estimation\n",
    "    I=list(i for i in range(0,k))\n",
    "    \n",
    "    for i in range(0,k):\n",
    "        y[i]=np.random.binomial(n=1, p=p0)\n",
    "    #print('Пожар есть(1) или нет(0):',y)\n",
    "    for i in range(0,k):\n",
    "        if y[i]==0:\n",
    "            p[i]=random.betavariate(a_0,b_0)\n",
    "        else:\n",
    "            p[i]=random.betavariate(a_1,b_1)\n",
    "    #print('Условные вероятности срабатывания:',p)\n",
    "    for i in range(0,k):\n",
    "        if p[i]>=1-p0:\n",
    "            z[i]=1\n",
    "        else:\n",
    "            z[i]=0\n",
    "    #print('          Оценки для Y_i:',z)\n",
    "    for i in range(0,k):\n",
    "        if z[i]==y[i]:\n",
    "            I[i]=0\n",
    "        else:\n",
    "            I[i]=1\n",
    "    #print('       Индикаторы ошибок:',I)\n",
    "    S[j]=sum(I[i] for i in range(0,k))\n",
    "    #print('Число ошибок:',S[j])\n",
    "    #print('Доля ошибок:',S[j]/k)\n",
    "#A=list(S[i]/k for i in range(0,m))\n",
    "data = pd.DataFrame(data={\"Num of mistakes\": list(S[i] for i in range(0,m)),\n",
    "                          \"Frequency\": list(1 for i in range(0,m))})\n",
    "#print(data)\n",
    "sum_points = data.groupby(\"Num of mistakes\") \\\n",
    "                 .agg({\"Frequency\": \"sum\"})\n",
    "print('a_1=2, b_1=1, a_0=1, b_0=2, p=0.001')\n",
    "print('Число наблюдений: 50, Число серий: 100')\n",
    "print(sum_points)\n",
    "print('Средняя доля ошибок:',sum(S[j] for j in range(0,m))/(m*k))\n",
    "plt.bar(sum_points.index, sum_points[\"Frequency\"])"
   ]
  },
  {
   "cell_type": "code",
   "execution_count": 18,
   "id": "cb44fb9d",
   "metadata": {},
   "outputs": [
    {
     "name": "stdout",
     "output_type": "stream",
     "text": [
      "a_1=2, b_1=1, a_0=1, b_0=2, p=0.5\n",
      "Число наблюдений: 50, Число серий: 100\n",
      "                 Frequency\n",
      "Num of mistakes           \n",
      "5                        1\n",
      "6                        1\n",
      "7                        4\n",
      "8                        3\n",
      "9                        5\n",
      "10                      12\n",
      "11                      10\n",
      "12                      13\n",
      "13                       8\n",
      "14                      14\n",
      "15                       8\n",
      "16                       8\n",
      "17                       7\n",
      "18                       2\n",
      "19                       3\n",
      "20                       1\n",
      "Средняя доля ошибок: 0.2548\n"
     ]
    },
    {
     "data": {
      "text/plain": [
       "<BarContainer object of 16 artists>"
      ]
     },
     "execution_count": 18,
     "metadata": {},
     "output_type": "execute_result"
    },
    {
     "data": {
      "image/png": "[encoded data removed]",
      "text/plain": [
       "<Figure size 432x288 with 1 Axes>"
      ]
     },
     "metadata": {
      "needs_background": "light"
     },
     "output_type": "display_data"
    }
   ],
   "source": [
    "#среднее p\n",
    "\n",
    "a_1=2\n",
    "b_1=1\n",
    "a_0=1\n",
    "b_0=2\n",
    "k=50\n",
    "p0=0.5\n",
    "m=100\n",
    "S=list(i for i in range(0,m))\n",
    "for j in range(0,m):\n",
    "    random.seed()\n",
    "    p=list(i for i in range(0,k))\n",
    "    y=list(i for i in range(0,k))\n",
    "    z=list(i for i in range(0,k)) #estimation\n",
    "    I=list(i for i in range(0,k))\n",
    "    \n",
    "    for i in range(0,k):\n",
    "        y[i]=np.random.binomial(n=1, p=p0)\n",
    "    #print('Пожар есть(1) или нет(0):',y)\n",
    "    for i in range(0,k):\n",
    "        if y[i]==0:\n",
    "            p[i]=random.betavariate(a_0,b_0)\n",
    "        else:\n",
    "            p[i]=random.betavariate(a_1,b_1)\n",
    "    #print('Условные вероятности срабатывания:',p)\n",
    "    for i in range(0,k):\n",
    "        if p[i]>=1-p0:\n",
    "            z[i]=1\n",
    "        else:\n",
    "            z[i]=0\n",
    "    #print('          Оценки для Y_i:',z)\n",
    "    for i in range(0,k):\n",
    "        if z[i]==y[i]:\n",
    "            I[i]=0\n",
    "        else:\n",
    "            I[i]=1\n",
    "    #print('       Индикаторы ошибок:',I)\n",
    "    S[j]=sum(I[i] for i in range(0,k))\n",
    "    #print('Число ошибок:',S[j])\n",
    "    #print('Доля ошибок:',S[j]/k)\n",
    "#A=list(S[i]/k for i in range(0,m))\n",
    "data = pd.DataFrame(data={\"Num of mistakes\": list(S[i] for i in range(0,m)),\n",
    "                          \"Frequency\": list(1 for i in range(0,m))})\n",
    "#print(data)\n",
    "sum_points = data.groupby(\"Num of mistakes\") \\\n",
    "                 .agg({\"Frequency\": \"sum\"})\n",
    "print('a_1=2, b_1=1, a_0=1, b_0=2, p=0.5')\n",
    "print('Число наблюдений: 50, Число серий: 100')\n",
    "print(sum_points)\n",
    "print('Средняя доля ошибок:',sum(S[j] for j in range(0,m))/(m*k))\n",
    "plt.bar(sum_points.index, sum_points[\"Frequency\"])"
   ]
  },
  {
   "cell_type": "code",
   "execution_count": null,
   "id": "66909a3c",
   "metadata": {},
   "outputs": [],
   "source": []
  }
 ],
 "metadata": {
  "kernelspec": {
   "display_name": "Python 3 (ipykernel)",
   "language": "python",
   "name": "python3"
  },
  "language_info": {
   "codemirror_mode": {
    "name": "ipython",
    "version": 3
   },
   "file_extension": ".py",
   "mimetype": "text/x-python",
   "name": "python",
   "nbconvert_exporter": "python",
   "pygments_lexer": "ipython3",
   "version": "3.7.6"
  }
 },
 "nbformat": 4,
 "nbformat_minor": 5
}
